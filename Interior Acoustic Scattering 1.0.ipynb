{
 "cells": [
  {
   "cell_type": "markdown",
   "metadata": {},
   "source": [
    "<h1>Interior Acoustic Scattering PTR</h1>\n",
    "\n",
    "<h3>Code Imports</h3>"
   ]
  },
  {
   "cell_type": "code",
   "execution_count": 2,
   "metadata": {},
   "outputs": [
    {
     "ename": "ModuleNotFoundError",
     "evalue": "No module named 'plotly'",
     "output_type": "error",
     "traceback": [
      "\u001b[0;31m---------------------------------------------------------------------------\u001b[0m",
      "\u001b[0;31mModuleNotFoundError\u001b[0m                       Traceback (most recent call last)",
      "\u001b[0;32m<ipython-input-2-4cdb93a2053a>\u001b[0m in \u001b[0;36m<module>\u001b[0;34m()\u001b[0m\n\u001b[1;32m     12\u001b[0m \u001b[0;34m\u001b[0m\u001b[0m\n\u001b[1;32m     13\u001b[0m \u001b[0;31m# For testing animated plots\u001b[0m\u001b[0;34m\u001b[0m\u001b[0;34m\u001b[0m\u001b[0;34m\u001b[0m\u001b[0m\n\u001b[0;32m---> 14\u001b[0;31m \u001b[0;32mfrom\u001b[0m \u001b[0mplotly\u001b[0m\u001b[0;34m.\u001b[0m\u001b[0moffline\u001b[0m \u001b[0;32mimport\u001b[0m \u001b[0mplot\u001b[0m\u001b[0;34m,\u001b[0m \u001b[0miplot\u001b[0m\u001b[0;34m,\u001b[0m \u001b[0minit_notebook_mode\u001b[0m\u001b[0;34m\u001b[0m\u001b[0;34m\u001b[0m\u001b[0m\n\u001b[0m\u001b[1;32m     15\u001b[0m \u001b[0;32mfrom\u001b[0m \u001b[0mplotly\u001b[0m\u001b[0;34m.\u001b[0m\u001b[0mgraph_objs\u001b[0m \u001b[0;32mimport\u001b[0m \u001b[0;34m*\u001b[0m\u001b[0;34m\u001b[0m\u001b[0;34m\u001b[0m\u001b[0m\n\u001b[1;32m     16\u001b[0m \u001b[0minit_notebook_mode\u001b[0m\u001b[0;34m(\u001b[0m\u001b[0;34m)\u001b[0m\u001b[0;34m\u001b[0m\u001b[0;34m\u001b[0m\u001b[0m\n",
      "\u001b[0;31mModuleNotFoundError\u001b[0m: No module named 'plotly'"
     ]
    }
   ],
   "source": [
    "% matplotlib inline\n",
    "import sympy as sp\n",
    "import numpy as np\n",
    "from  sympy import cos, sin, exp\n",
    "from numpy import sqrt, log\n",
    "from scipy.special import hankel1\n",
    "from scipy.special import jv as besselj\n",
    "from scipy.linalg import toeplitz\n",
    "from matplotlib import pyplot as plt\n",
    "from numpy import vectorize\n",
    "from mpl_toolkits.mplot3d import Axes3D\n",
    "\n",
    "# For testing animated plots\n",
    "from plotly.offline import plot, iplot, init_notebook_mode\n",
    "from plotly.graph_objs import *\n",
    "init_notebook_mode()\n",
    "init_notebook_mode(connected=True)\n",
    "from matplotlib import animation, rc\n",
    "from IPython.display import HTML"
   ]
  },
  {
   "cell_type": "markdown",
   "metadata": {},
   "source": [
    "<h3>Introduction</h3>"
   ]
  },
  {
   "cell_type": "markdown",
   "metadata": {
    "collapsed": true
   },
   "source": [
    "<b>Project Goals</b>\n",
    "<ul> \n",
    "<li> Define the boundary and its properties\n",
    "<li> From the boundary, define a function for the PTR\n",
    "<li> Using equations from Kress and CKK, calculate density mu\n",
    "<li> Using PTR, approximate the area outside the boundary from the function\n",
    "<li> Using PTR, approximate the area inside the boundary from the function (next step)\n",
    "<li> Plot PTR results\n",
    "<li> Examine PTR results and error of approximate (next step)\n",
    "</ul>"
   ]
  },
  {
   "cell_type": "markdown",
   "metadata": {},
   "source": [
    "<h3>Variable Definitions</h3>"
   ]
  },
  {
   "cell_type": "markdown",
   "metadata": {},
   "source": [
    "<img src=\"boundary_notes.JPG\" alt=\"Drawing\" style=\"width: 400px;\" align=\"left\"/>"
   ]
  },
  {
   "cell_type": "markdown",
   "metadata": {},
   "source": [
    "<b> Of the Boundary</b><br>\n",
    "M = Number of points on the boundary<br>\n",
    "J = Jacobian<br>\n",
    "τ = Tangent Vector<br>\n",
    "ν = Normal Vector<br>\n",
    "κ = Curvature\n",
    "\n",
    "<b> Of the PTR Approximation</b><br>\n",
    "f = Function of the density<br>\n",
    "k = Wave Number<br>\n",
    "μ = Density of the function<br>\n",
    "x, y = Range of the outer area of boundary<br>\n",
    "u = Plot of the area captured by the function"
   ]
  },
  {
   "cell_type": "markdown",
   "metadata": {},
   "source": [
    "<h3>Boundary Class Definition</h3>"
   ]
  },
  {
   "cell_type": "code",
   "execution_count": null,
   "metadata": {},
   "outputs": [],
   "source": [
    "class Boundary:\n",
    "    '''\n",
    "    Defines the class Boundary, that contains geometric features of a boundary\n",
    "    \n",
    "    Attributes\n",
    "    ==========\n",
    "    param: parametrization of a boundary\n",
    "    veloc: derivative of the parametrization\n",
    "    accel: second derivative of the parametrization\n",
    "    normal: normal vector to the boundary\n",
    "    tangent: tangent vectors to the boundary\n",
    "    curvature: signed curvature of the boundary\n",
    "    jacobian: Jacobian of the boundary\n",
    "    '''\n",
    "    \n",
    "    def __init__(self, b):\n",
    "        self.y = b\n",
    "    \n",
    "    @property\n",
    "    def yp(self):\n",
    "        return [sp.diff(p, t) for p in self.y]\n",
    "    @property\n",
    "    def ypp(self):\n",
    "        return [sp.diff(p, t) for p in self.yp]\n",
    "    @property\n",
    "    def J(self):\n",
    "        v2 = [i**2 for i in self.yp]\n",
    "        sv2 = sum(v2)\n",
    "        print(sv2) # This is correct ...\n",
    "        return sp.sqrt(sv2)\n",
    "    @property\n",
    "    def τ(self):\n",
    "        return [p/self.J for p in self.yp]\n",
    "    @property\n",
    "    def ν(self):\n",
    "        if len(self.y) == 2:\n",
    "            tmp = (self.yp[1]/self.J, -self.yp[0]/self.J )\n",
    "            return tmp\n",
    "        else:\n",
    "            raise ValueError('Need to define the normal vector for higher dimensions')\n",
    "    @property\n",
    "    def κ(self): #curvature kappa\n",
    "        if len(self.y) == 2:\n",
    "            tmp = (self.yp[0]*self.ypp[1] - self.yp[1]*self.ypp[0])/self.J**3  \n",
    "            return tmp\n",
    "        else:\n",
    "            raise ValueError('Need to define the mean curvature for higher dimensions')\n",
    "            \n",
    "  #  def __call__(self, u, v):             #if one needs to call the function one can create stuff\n",
    "  #      print(\"Hello \", self.κ)\n",
    "    \n",
    "  # Removed .simplify() from functions, was causing a scaling error in the values for Jacobian and Kappa"
   ]
  },
  {
   "cell_type": "markdown",
   "metadata": {},
   "source": [
    "<h3>Defined Boundary Curves</h3>"
   ]
  },
  {
   "cell_type": "code",
   "execution_count": null,
   "metadata": {},
   "outputs": [],
   "source": [
    "t = sp.Symbol('t')\n",
    "\n",
    "Ellipse = (2*cos(t), 3*sin(t))\n",
    "Circle = (cos(t), sin(t))\n",
    "Star = ((1+0.3*cos(5*t))*cos(t), (1+0.3*cos(5*t))*sin(t))\n",
    "Kite = ((cos(t) + 0.65*cos(2*t) -0.65, 1.5*sin(t)))\n",
    "\n",
    "E = Boundary(Ellipse)\n",
    "K = Boundary(Kite)\n",
    "C = Boundary(Circle)\n",
    "S = Boundary(Star)"
   ]
  },
  {
   "cell_type": "markdown",
   "metadata": {},
   "source": [
    "<h3>Calculation of Density μ</h3>"
   ]
  },
  {
   "cell_type": "code",
   "execution_count": null,
   "metadata": {},
   "outputs": [],
   "source": [
    "## Solve for the density, μ\n",
    "def find_μ(f, xbdy, ybdy, ν, J, κ):\n",
    "    \n",
    "    E_C = 0.5772156649015328606065120900824;  # Euler's constant\n",
    "    N = M / 2;\n",
    "    m = np.arange(1, N);\n",
    "\n",
    "    # Create array for ifft...\n",
    "    a = [0]\n",
    "    a.extend(1/m)\n",
    "    a.append(1/N)\n",
    "    a.extend((1/m)[::-1])\n",
    "\n",
    "    Rj = -2 * np.pi * np.fft.ifft(a);\n",
    "    R = np.real(toeplitz(Rj, Rj));\n",
    "\n",
    "    # Prepare arrays for solving integral equation of the boundary (Kress pt. 2)\n",
    "    Kbdy = np.zeros((M, M), dtype=complex);\n",
    "    L1 = np.zeros((M, M));\n",
    "    L2 = np.zeros((M, M), dtype=complex);\n",
    "    M1 = np.zeros((M, M));\n",
    "    M2 = np.zeros((M, M), dtype=complex);\n",
    "\n",
    "    for m in range(0, M):\n",
    "        for n in range(0, M):\n",
    "            rdiff = np.asarray([xbdy[m] - xbdy[n], ybdy[m] - ybdy[n]]);\n",
    "            distance = sqrt(np.power(rdiff[:][0], 2) + np.power(rdiff[:][1], 2));\n",
    "            M1[m][n] = -0.5 / np.pi * J[n] * besselj(0, k * distance);\n",
    "            if m == n:\n",
    "                L1[m][n] = 0;\n",
    "                L2[m][n] = 0.5 / np.pi * κ[n] * J[n];\n",
    "                M2[m][n] = J[n] * ( 0.5 * 1j - E_C / np.pi - 0.5 / np.pi * np.log( 0.25 * np.power(k, 2) * np.power(J[n], 2)));\n",
    "            else:\n",
    "                # Find a way to simplify these calculations?\n",
    "                A = np.asmatrix([-ν[0][n], -ν[1][n]]);\n",
    "                B = np.asmatrix(rdiff/distance);\n",
    "                cosθ = np.asscalar(np.matmul(A, B.transpose()));\n",
    "                \n",
    "                logterm = log(float(4 * np.power(sin(0.5 * (m - n) * dt), 2)));\n",
    "                \n",
    "                L1[m][n] = 0.5 * k / np.pi * J[n] * cosθ * besselj(1, k * distance);\n",
    "                L2[m][n] = -0.5 * 1j * k * J[n] * cosθ * hankel1(1, k * distance) - L1[m][n] * logterm;\n",
    "                M2[m][n] = 0.5 * 1j * J[n] * hankel1(0, k * distance) - M1[m][n] * logterm;\n",
    "    \n",
    "            Kbdy[m][n] = 0.5 * R[m][n] * (L1[m][n] + 1j * k * M1[m][n]) + 0.5 * (np.pi / N) * (L2[m][n] + 1j * k * M2[m][n]);\n",
    "        \n",
    "    A = 0.5 * np.identity(M) - Kbdy;\n",
    "    #μ_inv = np.linalg.inv(μ);\n",
    "    #μ = μ_inv.dot(f);\n",
    "    μ = np.linalg.solve(A,f);\n",
    "    return μ\n",
    "\n",
    "# Have attempted multiple different ways of solving for mu, verifying method each time\n",
    "# Result remains the same, and still seems off from Matlab results\n",
    "# Consult about acceptable error / a mistake in method"
   ]
  },
  {
   "cell_type": "markdown",
   "metadata": {},
   "source": [
    "<h3>Calculation of Solution Grid</h3>"
   ]
  },
  {
   "cell_type": "code",
   "execution_count": null,
   "metadata": {},
   "outputs": [],
   "source": [
    "## Preparing values for solution grid\n",
    "# κappa_E = lambda u: np.array([p.subs(t,u).evalf() for p in E.κ]).T\n",
    "def makegrid(ngrid, xbdy, ybdy, ν, J, κ, μ):\n",
    "    \n",
    "    κ_max = np.amax(np.abs(κ))  # Find the absolute maximum curvature |κ|max\n",
    "\n",
    "    dn = (3/κ_max)/ngrid;\n",
    "    rgrid = np.arange(0+dn, 3/ κ_max, dn)\n",
    "\n",
    "    #μ = np.ones(f.shape)*4;\n",
    "\n",
    "    # Evaluate the solutions\n",
    "    x  = np.zeros((M, ngrid - 1));\n",
    "    y  = np.zeros((M, ngrid - 1));\n",
    "    u  = np.zeros((M, ngrid - 1), dtype=complex); # Kernel and sum will include complex numbers\n",
    "    w  = np.zeros((M, ngrid - 1), dtype=complex); # Kernel and sum will include complex numbers\n",
    "\n",
    "    for m in range(0, M):\n",
    "        for n in range(0, ngrid - 1):\n",
    "            x[m][n] = xbdy[m] + rgrid[n]*-ν[0][m];\n",
    "            y[m][n] = ybdy[m] + rgrid[n]*-ν[1][m];\n",
    "        \n",
    "            xdiff = x[m][n] - xbdy;\n",
    "            ydiff = y[m][n] - ybdy;\n",
    "        \n",
    "            distance = sqrt(np.power(xdiff, 2) + np.power(ydiff, 2)); #(r in kress)\n",
    "            cosθ = (-ν[0][:]*(x[m][n] - xbdy) + -ν[1][:]*(y[m][n] - ybdy)) / distance;\n",
    "            kernel = 0.25 * 1j * (k * cosθ * hankel1(1, k*distance) - 1j * k * hankel1(0, k*distance)); # kress (2.2+)\n",
    "            u[m][n] = np.trapz(kernel * J * μ, dx=dt);\n",
    "            \n",
    "            dist_ = sqrt(np.power(x[m][n] - x0, 2) + np.power(y[m][n] - y0,2));\n",
    "            w[m][n] = 0.25 * 1j * hankel1(0, k * dist_);\n",
    "\n",
    "    return x, y, u, w"
   ]
  },
  {
   "cell_type": "code",
   "execution_count": null,
   "metadata": {},
   "outputs": [],
   "source": []
  },
  {
   "cell_type": "markdown",
   "metadata": {},
   "source": [
    "<h3>PTR Approximation</h3>"
   ]
  },
  {
   "cell_type": "code",
   "execution_count": null,
   "metadata": {},
   "outputs": [],
   "source": [
    "# Create functions to evaluate dirichlet data\n",
    "bdy_E = sp.lambdify(t, E.y);\n",
    "ν_E = sp.lambdify(t, E.ν);\n",
    "J_E = sp.lambdify(t, E.J);\n",
    "κ_E = sp.lambdify(t, E.κ);\n",
    "\n",
    "bdy_K = sp.lambdify(t, K.y);\n",
    "ν_K = sp.lambdify(t, K.ν);\n",
    "J_K = sp.lambdify(t, K.J);\n",
    "κ_K = sp.lambdify(t, K.κ);\n",
    "\n",
    "bdy_C = sp.lambdify(t, C.y);\n",
    "ν_C = sp.lambdify(t, C.ν);\n",
    "J_C = sp.lambdify(t, C.J);\n",
    "κ_C = sp.lambdify(t, C.κ);\n",
    "\n",
    "bdy_S = sp.lambdify(t, S.y);\n",
    "ν_S = sp.lambdify(t, S.ν);\n",
    "J_S = sp.lambdify(t, S.J);\n",
    "κ_S = sp.lambdify(t, S.κ);"
   ]
  },
  {
   "cell_type": "code",
   "execution_count": null,
   "metadata": {},
   "outputs": [],
   "source": [
    "# Evaluate solution to hemholtz from boundary data\n",
    "def def_f(bdy, x0, y0):\n",
    "    xbdy = bdy[0][:];\n",
    "    ybdy = bdy[1][:];\n",
    "    # alpha = np.pi / 5;\n",
    "\n",
    "    dist = sqrt(np.power(xbdy - x0, 2) + np.power(ybdy - y0, 2));\n",
    "\n",
    "    # f = np.exp(1j * k * xbdy);\n",
    "    # f = np.exp(1j * k * (np.cos(alpha * xbdy) + np.sin(alpha * ybdy)));\n",
    "    # f = np.exp(1j * k * (np.cos(alpha) * xbdy + np.sin(alpha) * ybdy);\n",
    "    # f = np.cos(k * xbdy);\n",
    "    # f = np.sin(k * xbdy);\n",
    "    f = 0.25 * 1j * hankel1(0, k * dist);  # Fundamental solution, Φ\n",
    "    \n",
    "    return xbdy, ybdy, f"
   ]
  },
  {
   "cell_type": "code",
   "execution_count": null,
   "metadata": {},
   "outputs": [],
   "source": [
    "# USER INPUTS:  M (number of points on boundary) and k (wave number)\n",
    "M = 300\n",
    "k = 4\n",
    "\n",
    "x0 = 3.1;\n",
    "y0 = 3.2;\n",
    "\n",
    "dt = 2.0 * np.pi/(M);\n",
    "θ = np.arange(0, 2* np.pi + dt, dt);\n",
    "M = θ.shape[0]; # Update for future references to M"
   ]
  },
  {
   "cell_type": "code",
   "execution_count": null,
   "metadata": {},
   "outputs": [],
   "source": [
    "xbdyE, ybdyE, fE = def_f(bdy_E(θ), x0, y0);\n",
    "fig, ax  = plt.subplots(1,1)\n",
    "ax.plot(np.real(fE), 'b', label='Real')\n",
    "ax.plot(np.imag(fE), 'r--', label='Imaginary')\n",
    "ax.legend(loc='upper right');\n",
    "fig.suptitle('Solution f of Ellipse Boundary');"
   ]
  },
  {
   "cell_type": "code",
   "execution_count": null,
   "metadata": {},
   "outputs": [],
   "source": [
    "ngrid = 99;\n",
    "μ = find_μ(fE, xbdyE, ybdyE, ν_E(θ), J_E(θ), κ_E(θ));\n",
    "x, y, u, w = makegrid(ngrid, xbdyE, ybdyE, ν_E(θ), J_E(θ), κ_E(θ), μ);"
   ]
  },
  {
   "cell_type": "code",
   "execution_count": null,
   "metadata": {},
   "outputs": [],
   "source": [
    "fig = plt.figure(figsize=(15,12))\n",
    "fig.suptitle(\"Ellipse Boundary\");\n",
    "ax = fig.add_subplot(2 ,2 ,1, projection='3d')\n",
    "#fig.gca(projection='3d')\n",
    "ax.view_init(90,90)\n",
    "real = ax.plot_surface(x, y, np.real(u), rstride=1, cstride=1, cmap=plt.get_cmap('viridis'), linewidth=0, antialiased=False)\n",
    "plt.title(\"Real Solution of PTR\");\n",
    "fig.colorbar(real, shrink=0.5);\n",
    "\n",
    "\n",
    "#fig = plt.figure(figsize=(10,7))\n",
    "#ax = fig.gca(projection='3d')\n",
    "ax = fig.add_subplot(2, 2, 2, projection='3d')\n",
    "ax.view_init(90,90)\n",
    "imag = ax.plot_surface(x, y, np.imag(u), rstride=1, cstride=1, cmap=plt.get_cmap('viridis'), linewidth=0, antialiased=False)\n",
    "plt.title(\"Imaginary Solution of PTR\");\n",
    "fig.colorbar(imag, shrink=0.5);\n",
    "#plt.show()\n",
    "\n",
    "ax = fig.add_subplot(2, 2, 3, projection='3d')\n",
    "ax.view_init(90,90)\n",
    "imag = ax.plot_surface(x, y, np.real(w), rstride=1, cstride=1, cmap=plt.get_cmap('viridis'), linewidth=0, antialiased=False)\n",
    "plt.title(\"Exact Real Solution\");\n",
    "fig.colorbar(imag, shrink=0.5);\n",
    "\n",
    "ax = fig.add_subplot(2, 2, 4, projection='3d')\n",
    "ax.view_init(90,90)\n",
    "imag = ax.plot_surface(x, y, np.imag(w), rstride=1, cstride=1, cmap=plt.get_cmap('viridis'), linewidth=0, antialiased=False)\n",
    "plt.title(\"Exact Imaginary Solution\");\n",
    "fig.colorbar(imag, shrink=0.5);\n",
    "\n"
   ]
  },
  {
   "cell_type": "markdown",
   "metadata": {},
   "source": [
    "<h3>Error Plot</h3>"
   ]
  },
  {
   "cell_type": "code",
   "execution_count": null,
   "metadata": {},
   "outputs": [],
   "source": [
    "data= [Surface(x=x, y=y, z=log(np.absolute(u - w)))]\n",
    "\n",
    "layout=dict(xaxis=dict(zeroline=False),\n",
    "            yaxis=dict(zeroline=False),\n",
    "            width=700,\n",
    "            height=700,\n",
    "            margin=dict(l=50, r=50, b=100, t=100),\n",
    "           title='Log Error Plot', hovermode='closest'\n",
    "           )\n",
    "          \n",
    "figure1=dict(data=data, layout=layout)          \n",
    "iplot(figure1)"
   ]
  },
  {
   "cell_type": "code",
   "execution_count": null,
   "metadata": {},
   "outputs": [],
   "source": []
  }
 ],
 "metadata": {
  "kernelspec": {
   "display_name": "Python [default]",
   "language": "python",
   "name": "python3"
  },
  "language_info": {
   "codemirror_mode": {
    "name": "ipython",
    "version": 3
   },
   "file_extension": ".py",
   "mimetype": "text/x-python",
   "name": "python",
   "nbconvert_exporter": "python",
   "pygments_lexer": "ipython3",
   "version": "3.6.7"
  }
 },
 "nbformat": 4,
 "nbformat_minor": 2
}
